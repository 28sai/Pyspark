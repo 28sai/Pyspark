{
 "cells": [
  {
   "cell_type": "raw",
   "id": "1e8d0566-536d-451b-b79c-bd146bf6d974",
   "metadata": {},
   "source": [
    "Pyspark dataframe\n",
    "reading the dataset\n",
    "checking the datatypes of the col\n",
    "selecting cols and indexing\n",
    "check describe option similar to pandas\n",
    "adding cols\n",
    "droping cols\n",
    "renaming columns"
   ]
  },
  {
   "cell_type": "code",
   "execution_count": 8,
   "id": "266b8880-2e69-41fc-9c73-dfcb7f8e6559",
   "metadata": {},
   "outputs": [],
   "source": [
    "from pyspark.sql import SparkSession"
   ]
  },
  {
   "cell_type": "code",
   "execution_count": 9,
   "id": "1edde29f-6d3e-44c8-a14b-42bc91e66e9e",
   "metadata": {},
   "outputs": [],
   "source": [
    "spark=SparkSession.builder.appName(\"Dataframes\").getOrCreate()"
   ]
  },
  {
   "cell_type": "code",
   "execution_count": 10,
   "id": "40e6cbde-8788-4a07-b369-b1cf10d52cba",
   "metadata": {},
   "outputs": [
    {
     "data": {
      "text/html": [
       "\n",
       "            <div>\n",
       "                <p><b>SparkSession - in-memory</b></p>\n",
       "                \n",
       "        <div>\n",
       "            <p><b>SparkContext</b></p>\n",
       "\n",
       "            <p><a href=\"http://SaiTeja.bbrouter:4042\">Spark UI</a></p>\n",
       "\n",
       "            <dl>\n",
       "              <dt>Version</dt>\n",
       "                <dd><code>v3.5.1</code></dd>\n",
       "              <dt>Master</dt>\n",
       "                <dd><code>local[*]</code></dd>\n",
       "              <dt>AppName</dt>\n",
       "                <dd><code>Dataframes</code></dd>\n",
       "            </dl>\n",
       "        </div>\n",
       "        \n",
       "            </div>\n",
       "        "
      ],
      "text/plain": [
       "<pyspark.sql.session.SparkSession at 0x1941bf5b8c0>"
      ]
     },
     "execution_count": 10,
     "metadata": {},
     "output_type": "execute_result"
    }
   ],
   "source": [
    "spark"
   ]
  },
  {
   "cell_type": "code",
   "execution_count": 11,
   "id": "86feb9e3-8d8d-41ca-97f6-7aa312acba88",
   "metadata": {},
   "outputs": [
    {
     "data": {
      "text/plain": [
       "DataFrame[Name : string, Age: string, Experience: string]"
      ]
     },
     "execution_count": 11,
     "metadata": {},
     "output_type": "execute_result"
    }
   ],
   "source": [
    "spark.read.option(\"header\",\"true\").csv(\"test2.csv\")"
   ]
  },
  {
   "cell_type": "code",
   "execution_count": 12,
   "id": "8cfcfd79-b5a1-4036-b845-db19134d8f50",
   "metadata": {},
   "outputs": [],
   "source": [
    "#read the dataset\n",
    "\n",
    "df_pyspark=spark.read.option(\"header\",\"true\").csv(\"test2.csv\")"
   ]
  },
  {
   "cell_type": "code",
   "execution_count": 13,
   "id": "2e156313-862d-426a-91d2-1c0791595a63",
   "metadata": {},
   "outputs": [
    {
     "name": "stdout",
     "output_type": "stream",
     "text": [
      "+---------+---+----------+\n",
      "|    Name |Age|Experience|\n",
      "+---------+---+----------+\n",
      "|  Saiteja| 22|        10|\n",
      "|   Dinesh| 24|        12|\n",
      "|    Rohan| 25|        13|\n",
      "|Suryateja| 22|        10|\n",
      "+---------+---+----------+\n",
      "\n"
     ]
    }
   ],
   "source": [
    "df_pyspark.show()"
   ]
  },
  {
   "cell_type": "code",
   "execution_count": 14,
   "id": "4f608d21-5c65-474d-b124-2174d1ee15ab",
   "metadata": {},
   "outputs": [
    {
     "name": "stdout",
     "output_type": "stream",
     "text": [
      "root\n",
      " |-- Name : string (nullable = true)\n",
      " |-- Age: string (nullable = true)\n",
      " |-- Experience: string (nullable = true)\n",
      "\n"
     ]
    }
   ],
   "source": [
    "#dataframe schema\n",
    "\n",
    "df_pyspark.printSchema()"
   ]
  },
  {
   "cell_type": "code",
   "execution_count": 15,
   "id": "e67b8daf-c0e2-4b89-a898-8afdc9012da6",
   "metadata": {},
   "outputs": [],
   "source": [
    "df_pyspark=spark.read.option(\"header\",\"true\").csv(\"test2.csv\",inferSchema=True)   #guves actual data type"
   ]
  },
  {
   "cell_type": "code",
   "execution_count": 16,
   "id": "b51ec9ab-a04b-466c-957d-48fad7a7d5ad",
   "metadata": {},
   "outputs": [
    {
     "name": "stdout",
     "output_type": "stream",
     "text": [
      "root\n",
      " |-- Name : string (nullable = true)\n",
      " |-- Age: integer (nullable = true)\n",
      " |-- Experience: integer (nullable = true)\n",
      "\n"
     ]
    }
   ],
   "source": [
    "df_pyspark.printSchema()"
   ]
  },
  {
   "cell_type": "code",
   "execution_count": 17,
   "id": "0ab35031-77f6-442c-b002-9b682a1731e4",
   "metadata": {},
   "outputs": [
    {
     "data": {
      "text/plain": [
       "DataFrame[Name : string, Age: int, Experience: int]"
      ]
     },
     "execution_count": 17,
     "metadata": {},
     "output_type": "execute_result"
    }
   ],
   "source": [
    "df_pyspark=spark.read.csv(\"test2.csv\",header=True,inferSchema=True)\n",
    "df_pyspark"
   ]
  },
  {
   "cell_type": "code",
   "execution_count": 18,
   "id": "8e8edc31-a452-443e-9772-92e5eb239db4",
   "metadata": {},
   "outputs": [
    {
     "name": "stdout",
     "output_type": "stream",
     "text": [
      "+---------+---+----------+\n",
      "|    Name |Age|Experience|\n",
      "+---------+---+----------+\n",
      "|  Saiteja| 22|        10|\n",
      "|   Dinesh| 24|        12|\n",
      "|    Rohan| 25|        13|\n",
      "|Suryateja| 22|        10|\n",
      "+---------+---+----------+\n",
      "\n"
     ]
    }
   ],
   "source": [
    "df_pyspark.show()"
   ]
  },
  {
   "cell_type": "code",
   "execution_count": 19,
   "id": "2e9692bc-bf8b-4409-9a2c-0bcc780cc83f",
   "metadata": {},
   "outputs": [
    {
     "name": "stdout",
     "output_type": "stream",
     "text": [
      "root\n",
      " |-- Name : string (nullable = true)\n",
      " |-- Age: integer (nullable = true)\n",
      " |-- Experience: integer (nullable = true)\n",
      "\n"
     ]
    }
   ],
   "source": [
    "df_pyspark.printSchema()"
   ]
  },
  {
   "cell_type": "code",
   "execution_count": 20,
   "id": "164eb512-f00f-4357-8f75-98a0b08236ab",
   "metadata": {},
   "outputs": [
    {
     "data": {
      "text/plain": [
       "pyspark.sql.dataframe.DataFrame"
      ]
     },
     "execution_count": 20,
     "metadata": {},
     "output_type": "execute_result"
    }
   ],
   "source": [
    "type(df_pyspark)    #basically dataframe is a data structure inside we can perfrom various kind of operations"
   ]
  },
  {
   "cell_type": "code",
   "execution_count": 21,
   "id": "c496e140-5cce-45aa-9898-20819253c811",
   "metadata": {},
   "outputs": [
    {
     "data": {
      "text/plain": [
       "['Name ', 'Age', 'Experience']"
      ]
     },
     "execution_count": 21,
     "metadata": {},
     "output_type": "execute_result"
    }
   ],
   "source": [
    "df_pyspark.columns"
   ]
  },
  {
   "cell_type": "code",
   "execution_count": 22,
   "id": "1f90f97d-66c9-4108-b45f-8e593160f7c4",
   "metadata": {},
   "outputs": [
    {
     "data": {
      "text/plain": [
       "[Row(Name ='Saiteja', Age=22, Experience=10),\n",
       " Row(Name ='Dinesh', Age=24, Experience=12),\n",
       " Row(Name ='Rohan', Age=25, Experience=13)]"
      ]
     },
     "execution_count": 22,
     "metadata": {},
     "output_type": "execute_result"
    }
   ],
   "source": [
    "df_pyspark.head(3)"
   ]
  },
  {
   "cell_type": "markdown",
   "id": "e8262e83-b2e2-43a2-a967-489d8c06033e",
   "metadata": {},
   "source": [
    "<h3>accessing columns and indexs</h3>"
   ]
  },
  {
   "cell_type": "code",
   "execution_count": 28,
   "id": "31e923d1-20bf-44b4-a585-6f21138503dc",
   "metadata": {},
   "outputs": [
    {
     "data": {
      "text/plain": [
       "DataFrame[Name : string]"
      ]
     },
     "execution_count": 28,
     "metadata": {},
     "output_type": "execute_result"
    }
   ],
   "source": [
    "df_pyspark.select('Name ')"
   ]
  },
  {
   "cell_type": "code",
   "execution_count": 29,
   "id": "01995ab6-d87d-451d-b1f4-1b2f93f5ccc4",
   "metadata": {},
   "outputs": [
    {
     "name": "stdout",
     "output_type": "stream",
     "text": [
      "+---------+\n",
      "|    Name |\n",
      "+---------+\n",
      "|  Saiteja|\n",
      "|   Dinesh|\n",
      "|    Rohan|\n",
      "|Suryateja|\n",
      "+---------+\n",
      "\n"
     ]
    }
   ],
   "source": [
    "df_pyspark.select('Name ').show()"
   ]
  },
  {
   "cell_type": "code",
   "execution_count": 30,
   "id": "f87bad08-34ac-4aab-9c34-dcada9c54ec3",
   "metadata": {},
   "outputs": [
    {
     "data": {
      "text/plain": [
       "pyspark.sql.dataframe.DataFrame"
      ]
     },
     "execution_count": 30,
     "metadata": {},
     "output_type": "execute_result"
    }
   ],
   "source": [
    "type(df_pyspark.select('Age'))"
   ]
  },
  {
   "cell_type": "code",
   "execution_count": 32,
   "id": "bf0f436c-407c-4bd2-b85f-206aa0fe0a82",
   "metadata": {},
   "outputs": [
    {
     "name": "stdout",
     "output_type": "stream",
     "text": [
      "+---+----------+\n",
      "|Age|Experience|\n",
      "+---+----------+\n",
      "| 22|        10|\n",
      "| 24|        12|\n",
      "| 25|        13|\n",
      "| 22|        10|\n",
      "+---+----------+\n",
      "\n"
     ]
    }
   ],
   "source": [
    "df_pyspark.select([\"Age\",\"Experience\"]).show()"
   ]
  },
  {
   "cell_type": "code",
   "execution_count": 33,
   "id": "d6f87d12-7d2d-45e8-a1e5-62a87ba832c7",
   "metadata": {},
   "outputs": [
    {
     "data": {
      "text/plain": [
       "Column<'Name '>"
      ]
     },
     "execution_count": 33,
     "metadata": {},
     "output_type": "execute_result"
    }
   ],
   "source": [
    "df_pyspark[\"Name \"]"
   ]
  },
  {
   "cell_type": "code",
   "execution_count": 34,
   "id": "2276ee95-4f6f-4f4d-b654-d95f29080086",
   "metadata": {},
   "outputs": [
    {
     "data": {
      "text/plain": [
       "[('Name ', 'string'), ('Age', 'int'), ('Experience', 'int')]"
      ]
     },
     "execution_count": 34,
     "metadata": {},
     "output_type": "execute_result"
    }
   ],
   "source": [
    "df_pyspark.dtypes"
   ]
  },
  {
   "cell_type": "code",
   "execution_count": 35,
   "id": "459eb162-9c83-4b62-844f-28119bd980cd",
   "metadata": {},
   "outputs": [
    {
     "name": "stdout",
     "output_type": "stream",
     "text": [
      "+-------+---------+------------------+------------------+\n",
      "|summary|    Name |               Age|        Experience|\n",
      "+-------+---------+------------------+------------------+\n",
      "|  count|        4|                 4|                 4|\n",
      "|   mean|     NULL|             23.25|             11.25|\n",
      "| stddev|     NULL|1.5000000000000004|1.4999999999999998|\n",
      "|    min|   Dinesh|                22|                10|\n",
      "|    max|Suryateja|                25|                13|\n",
      "+-------+---------+------------------+------------------+\n",
      "\n"
     ]
    }
   ],
   "source": [
    "df_pyspark.describe().show()"
   ]
  },
  {
   "cell_type": "code",
   "execution_count": null,
   "id": "1d038902-0c8f-4b7d-a13b-ef91d501a825",
   "metadata": {},
   "outputs": [],
   "source": []
  },
  {
   "cell_type": "code",
   "execution_count": null,
   "id": "49ed4f10-f223-49cb-98b9-b0624cf1cb68",
   "metadata": {},
   "outputs": [],
   "source": []
  },
  {
   "cell_type": "markdown",
   "id": "a41d8c8d-aa94-4e66-9dd9-28c8e436b88b",
   "metadata": {},
   "source": [
    "<h3>adding columns</h3>"
   ]
  },
  {
   "cell_type": "code",
   "execution_count": 38,
   "id": "a12b7c0b-7c2b-4115-a8cf-985ebdf203ca",
   "metadata": {},
   "outputs": [],
   "source": [
    "df_pyspark=df_pyspark.withColumn(\"Experience after 2 yrs\",df_pyspark['Experience']+2)"
   ]
  },
  {
   "cell_type": "code",
   "execution_count": 39,
   "id": "b03cd5e9-95df-41d1-9183-5d6ea338b2b9",
   "metadata": {},
   "outputs": [
    {
     "name": "stdout",
     "output_type": "stream",
     "text": [
      "+---------+---+----------+----------------------+\n",
      "|    Name |Age|Experience|Experience after 2 yrs|\n",
      "+---------+---+----------+----------------------+\n",
      "|  Saiteja| 22|        10|                    12|\n",
      "|   Dinesh| 24|        12|                    14|\n",
      "|    Rohan| 25|        13|                    15|\n",
      "|Suryateja| 22|        10|                    12|\n",
      "+---------+---+----------+----------------------+\n",
      "\n"
     ]
    }
   ],
   "source": [
    "df_pyspark.show()"
   ]
  },
  {
   "cell_type": "markdown",
   "id": "518d3ff0-7a3a-4001-8e4a-6023972d32ec",
   "metadata": {},
   "source": [
    "<h3>drop columns</h3>"
   ]
  },
  {
   "cell_type": "code",
   "execution_count": 40,
   "id": "43783171-ca5c-4ef2-bb3a-d1471e2e50d7",
   "metadata": {},
   "outputs": [],
   "source": [
    "df_pyspark=df_pyspark.drop(\"Experience after 2 yrs\")"
   ]
  },
  {
   "cell_type": "code",
   "execution_count": 41,
   "id": "6f0b2582-02a4-41ee-ab7a-669cbdc8454e",
   "metadata": {},
   "outputs": [
    {
     "name": "stdout",
     "output_type": "stream",
     "text": [
      "+---------+---+----------+\n",
      "|    Name |Age|Experience|\n",
      "+---------+---+----------+\n",
      "|  Saiteja| 22|        10|\n",
      "|   Dinesh| 24|        12|\n",
      "|    Rohan| 25|        13|\n",
      "|Suryateja| 22|        10|\n",
      "+---------+---+----------+\n",
      "\n"
     ]
    }
   ],
   "source": [
    "df_pyspark.show()"
   ]
  },
  {
   "cell_type": "markdown",
   "id": "b689e239-87b7-41e1-b7c7-3598ff0cc2b5",
   "metadata": {},
   "source": [
    "<h3> column rename</h3>"
   ]
  },
  {
   "cell_type": "code",
   "execution_count": 42,
   "id": "8c090140-defe-4d5e-a882-40713572386c",
   "metadata": {},
   "outputs": [],
   "source": [
    "df_pyspark=df_pyspark.withColumnRenamed(\"Name \",\"Employee_Name\")"
   ]
  },
  {
   "cell_type": "code",
   "execution_count": 43,
   "id": "ef138294-a6de-452e-aad7-cbeef3c18357",
   "metadata": {},
   "outputs": [
    {
     "name": "stdout",
     "output_type": "stream",
     "text": [
      "+-------------+---+----------+\n",
      "|Employee_Name|Age|Experience|\n",
      "+-------------+---+----------+\n",
      "|      Saiteja| 22|        10|\n",
      "|       Dinesh| 24|        12|\n",
      "|        Rohan| 25|        13|\n",
      "|    Suryateja| 22|        10|\n",
      "+-------------+---+----------+\n",
      "\n"
     ]
    }
   ],
   "source": [
    "df_pyspark.show()"
   ]
  },
  {
   "cell_type": "code",
   "execution_count": null,
   "id": "6d7b9bd1-6226-485a-a363-34c01081d796",
   "metadata": {},
   "outputs": [],
   "source": []
  }
 ],
 "metadata": {
  "kernelspec": {
   "display_name": "Python 3 (ipykernel)",
   "language": "python",
   "name": "python3"
  },
  "language_info": {
   "codemirror_mode": {
    "name": "ipython",
    "version": 3
   },
   "file_extension": ".py",
   "mimetype": "text/x-python",
   "name": "python",
   "nbconvert_exporter": "python",
   "pygments_lexer": "ipython3",
   "version": "3.12.1"
  }
 },
 "nbformat": 4,
 "nbformat_minor": 5
}
